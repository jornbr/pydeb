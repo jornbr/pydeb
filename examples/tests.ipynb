{
 "cells": [
  {
   "cell_type": "code",
   "execution_count": null,
   "metadata": {},
   "outputs": [],
   "source": [
    "import sys\n",
    "sys.path.append('..')"
   ]
  },
  {
   "cell_type": "code",
   "execution_count": null,
   "metadata": {},
   "outputs": [],
   "source": [
    "import pydeb\n",
    "import numpy"
   ]
  },
  {
   "cell_type": "code",
   "execution_count": null,
   "metadata": {
    "tags": []
   },
   "outputs": [],
   "source": [
    "# Look up the Catalogue of Life (CoL) identifier for the species of interest\n",
    "m=pydeb.infer.get_model_by_name('schol')\n",
    "m.report()"
   ]
  },
  {
   "cell_type": "code",
   "execution_count": null,
   "metadata": {
    "tags": []
   },
   "outputs": [],
   "source": [
    "# Simulate entire life span (upto 10 x the age at which 99% of final length is reached)\n",
    "# The age-maturity relationship from this simulation will be used as reference\n",
    "delta_t= 0.01 * m.a_b\n",
    "result = m.simulate(n=m.a_99/delta_t, delta_t=delta_t)\n",
    "t_ref, E_H_ref = result['t'], result['E_H']\n",
    "\n",
    "print('Age at birth: %.3f d vs simulated %.3f d' % (m.a_b, numpy.interp(m.E_Hb, E_H_ref, t_ref)))\n",
    "if m.E_Hj > m.E_Hb:\n",
    "    print('Age at metamorphosis: %.3f d vs simulated %.3f d' % (m.a_j, numpy.interp(m.E_Hj, E_H_ref, t_ref)))\n",
    "print('Age at puberty: %.3f d vs simulated %.3f d' % (m.a_p, numpy.interp(m.E_Hp, E_H_ref, t_ref)))\n",
    "\n",
    "precision = 0.001\n",
    "\n",
    "import plotly.offline as py\n",
    "import plotly.graph_objects as go\n",
    "\n",
    "data = [go.Scatter(x=[m.a_b*0.001, m.a_p], y=[m.a_b*0.001, m.a_p], line={'color': 'black'}, mode='lines', name='reference (x=y)')]\n",
    "E_H = numpy.logspace(numpy.log10(m.E_Hb*0.001), numpy.log10(m.E_Hb), 100)\n",
    "t = [m.age_at_maturity(E_H, precision=precision) for E_H in E_H]\n",
    "data.append(go.Scatter(x=numpy.interp(E_H, E_H_ref, t_ref), y=t, mode='markers', name='before birth'))\n",
    "if m.E_Hj > m.E_Hb:\n",
    "    E_H = numpy.logspace(numpy.log10(m.E_Hb), numpy.log10(m.E_Hj), 100)\n",
    "    t = [m.age_at_maturity(E_H, precision=precision) for E_H in E_H]\n",
    "    data.append(go.Scatter(x=numpy.interp(E_H, E_H_ref, t_ref), y=t, mode='markers', name='between birth and metamorphosis'))\n",
    "E_H = numpy.logspace(numpy.log10(m.E_Hj), numpy.log10(m.E_Hp), 100)\n",
    "t = [m.age_at_maturity(E_H, precision=precision) for E_H in E_H]\n",
    "data.append(go.Scatter(x=numpy.interp(E_H, E_H_ref, t_ref), y=t, mode='markers', name='between metamorphosis (or birth) and puberty'))\n",
    "\n",
    "layout = go.Layout(xaxis={'title': 'age from explicit simulation (d)', 'type': 'log'}, yaxis={'title': 'age from age_at_maturity (d)', 'type': 'log'})\n",
    "fig = go.Figure(data=data, layout=layout)\n",
    "py.iplot(fig)"
   ]
  }
 ],
 "metadata": {
  "kernelspec": {
   "display_name": "Python 3",
   "language": "python",
   "name": "python3"
  },
  "language_info": {
   "codemirror_mode": {
    "name": "ipython",
    "version": 3
   },
   "file_extension": ".py",
   "mimetype": "text/x-python",
   "name": "python",
   "nbconvert_exporter": "python",
   "pygments_lexer": "ipython3",
   "version": "3.7.3"
  }
 },
 "nbformat": 4,
 "nbformat_minor": 2
}