{
 "cells": [
  {
   "cell_type": "code",
   "execution_count": null,
   "metadata": {},
   "outputs": [],
   "source": [
    "import pydeb"
   ]
  },
  {
   "cell_type": "code",
   "execution_count": null,
   "metadata": {
    "tags": []
   },
   "outputs": [],
   "source": [
    "# Retrieve DEB parameter set for the chosen CoL identifier\n",
    "# This returns the median estimate from [Debber](https://deb.bolding-bruggeman.com/)\n",
    "models = {}\n",
    "models['mammal'] = pydeb.infer.get_model_by_name('Mammalia')\n",
    "models['bird'] = pydeb.infer.get_model_by_name('Aves')\n",
    "models['reptile'] = pydeb.infer.get_model_by_name('Reptilia')\n",
    "models['bony fish'] = pydeb.infer.get_model_by_name('Actinopterygii')"
   ]
  },
  {
   "cell_type": "code",
   "execution_count": null,
   "metadata": {
    "tags": []
   },
   "outputs": [],
   "source": [
    "import plotly.offline as py\n",
    "import plotly.graph_objects as go\n",
    "growth = []\n",
    "reproduction = []\n",
    "nyear = 20\n",
    "for name, model in models.items():\n",
    "    T = pydeb.infer.get_typical_temperature(model.col_id)\n",
    "    print('%s: expected body temperature = %.1f degrees Celsius' % (name, T))\n",
    "    c_T = model.get_temperature_correction(T)\n",
    "    result = model.simulate(n=nyear*365*10, delta_t=0.1, nsave=10, c_T=c_T)\n",
    "    growth.append(go.Scatter(x=result['t'], y=result['L']**3, name=name))\n",
    "    reproduction.append(go.Scatter(x=result['t'], y=result['R'], name=name))\n",
    "layout = {'xaxis': {'title': 'time (d)'}}\n",
    "fig = go.Figure(data=growth, layout=dict(**layout, yaxis={'title': 'structural volume (cm^3)'}))\n",
    "py.iplot(fig)\n",
    "fig = go.Figure(data=reproduction, layout=dict(**layout, yaxis={'title': 'reproduction rate (#/d)', 'type': 'log', 'range': [-3, 4]}))\n",
    "py.iplot(fig)"
   ]
  },
  {
   "cell_type": "code",
   "execution_count": null,
   "metadata": {},
   "outputs": [],
   "source": []
  }
 ],
 "metadata": {
  "kernelspec": {
   "display_name": "Python 3",
   "language": "python",
   "name": "python3"
  },
  "language_info": {
   "codemirror_mode": {
    "name": "ipython",
    "version": 3
   },
   "file_extension": ".py",
   "mimetype": "text/x-python",
   "name": "python",
   "nbconvert_exporter": "python",
   "pygments_lexer": "ipython3",
   "version": "3.7.9-final"
  }
 },
 "nbformat": 4,
 "nbformat_minor": 2
}