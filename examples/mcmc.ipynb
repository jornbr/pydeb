{
 "metadata": {
  "language_info": {
   "codemirror_mode": {
    "name": "ipython",
    "version": 3
   },
   "file_extension": ".py",
   "mimetype": "text/x-python",
   "name": "python",
   "nbconvert_exporter": "python",
   "pygments_lexer": "ipython3",
   "version": 3
  },
  "orig_nbformat": 2,
  "kernelspec": {
   "name": "python_defaultSpec_1596623414887",
   "display_name": "Python 3.7.3 64-bit (virtualenv)"
  }
 },
 "nbformat": 4,
 "nbformat_minor": 2,
 "cells": [
  {
   "cell_type": "code",
   "execution_count": null,
   "metadata": {},
   "outputs": [],
   "source": [
    "import sys\n",
    "sys.path.append('..')\n",
    "import pydeb\n",
    "import numpy"
   ]
  },
  {
   "cell_type": "code",
   "execution_count": null,
   "metadata": {
    "tags": []
   },
   "outputs": [],
   "source": [
    "pydeb.infer.get_ids('Hamiota altilis')"
   ]
  },
  {
   "cell_type": "code",
   "execution_count": null,
   "metadata": {},
   "outputs": [],
   "source": [
    "prior = pydeb.infer.ParameterEstimates('f663015430cb783a8c3c9bd4acf5ad98')\n",
    "prior.names"
   ]
  },
  {
   "cell_type": "code",
   "execution_count": null,
   "metadata": {
    "tags": []
   },
   "outputs": [],
   "source": [
    "temperature = 15.\n",
    "observations = []\n",
    "observations.append(pydeb.calibrate.likelihood.ImpliedProperty('L_i', numpy.log10(2.), 0.01, numpy.log10, temperature=temperature))\n",
    "observations.append(pydeb.calibrate.likelihood.ImpliedProperty('R_i', numpy.log10(1000.), 0.01, numpy.log10, temperature=temperature))\n",
    "sim = pydeb.calibrate.EnsembleRunner(prior.names, prior.inverse_transforms, prior.mean, prior.cov, sample_size=10000, deb_type='abj', temperature=temperature, priors=observations)\n",
    "sim.selected_outputs = 'L', 'R', 'S'\n",
    "display(sim.get_progress_bar())\n",
    "sim.join()"
   ]
  },
  {
   "cell_type": "code",
   "execution_count": null,
   "metadata": {
    "tags": []
   },
   "outputs": [],
   "source": [
    "result = sim.get_result()\n",
    "\n",
    "values = result['R']\n",
    "import plotly.offline as py\n",
    "import plotly.graph_objects as go\n",
    "\n",
    "for name in sim.selected_outputs:\n",
    "    values = result[name]\n",
    "    title = '%s (%s)' % (pydeb.long_names[name], pydeb.units[name])\n",
    "    data = [\n",
    "        go.Scatter(x=result['t'], y=values[0], name='2.5%', line={'color': 'blue'}),\n",
    "        go.Scatter(x=result['t'], y=values[4], name='97.5%', line={'color': 'blue'}, fill='tonexty'),\n",
    "        go.Scatter(x=result['t'], y=values[1], name='25%', line={'color': 'red'}),\n",
    "        go.Scatter(x=result['t'], y=values[3], name='50%', line={'color': 'red'}, fill='tonexty'),\n",
    "        go.Scatter(x=result['t'], y=values[2], name='median', line={'color': 'black'}),\n",
    "    ]\n",
    "    layout = {'xaxis': {'title': 'time (d)'}, 'yaxis': {'title': title}}\n",
    "    fig = go.Figure(data=data, layout=layout)\n",
    "    py.iplot(fig)"
   ]
  },
  {
   "cell_type": "code",
   "execution_count": null,
   "metadata": {},
   "outputs": [],
   "source": []
  }
 ]
}