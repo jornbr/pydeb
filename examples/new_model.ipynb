{
 "cells": [
  {
   "cell_type": "code",
   "execution_count": null,
   "metadata": {},
   "outputs": [],
   "source": [
    "import sys\n",
    "sys.path.append('..')"
   ]
  },
  {
   "cell_type": "code",
   "execution_count": null,
   "metadata": {},
   "outputs": [],
   "source": [
    "import pydeb"
   ]
  },
  {
   "cell_type": "code",
   "execution_count": null,
   "metadata": {},
   "outputs": [],
   "source": [
    "# Look up the Catalogue of Life (CoL) identifier for the species of interest\n",
    "pydeb.infer.get_ids('asterias r*')"
   ]
  },
  {
   "cell_type": "code",
   "execution_count": null,
   "metadata": {},
   "outputs": [],
   "source": [
    "# Retrieve DEB parameter set for the chosen CoL identifier\n",
    "# This returns the median estimate from [Debber](https://deb.bolding-bruggeman.com/)\n",
    "parameters = pydeb.infer.get_median('ff6711281e27917bc07b75a921bc2f40')\n",
    "parameters"
   ]
  },
  {
   "cell_type": "code",
   "execution_count": null,
   "metadata": {},
   "outputs": [],
   "source": [
    "# Create model and transfer the inferred parameter set to it\n",
    "m = pydeb.model.Model()\n",
    "for name, value in parameters.items():\n",
    "    setattr(m, name, value)\n",
    "\n",
    "# Report life history statistics for the current parameterisation.\n",
    "m.report()"
   ]
  },
  {
   "cell_type": "code",
   "execution_count": null,
   "metadata": {},
   "outputs": [],
   "source": [
    "result = m.simulate(n=10000, delta_t=0.1, nsave=10)"
   ]
  },
  {
   "cell_type": "code",
   "execution_count": null,
   "metadata": {},
   "outputs": [],
   "source": [
    "import plotly.offline as py\n",
    "import plotly.graph_objects as go\n",
    "data = [go.Scatter(x=result['t'], y=result['S'])]\n",
    "layout = {'xaxis': {'title': 'time (d)'}}\n",
    "py.iplot(data, layout)"
   ]
  },
  {
   "cell_type": "code",
   "execution_count": null,
   "metadata": {},
   "outputs": [],
   "source": []
  }
 ],
 "metadata": {
  "kernelspec": {
   "display_name": "Python 3",
   "language": "python",
   "name": "python3"
  },
  "language_info": {
   "codemirror_mode": {
    "name": "ipython",
    "version": 3
   },
   "file_extension": ".py",
   "mimetype": "text/x-python",
   "name": "python",
   "nbconvert_exporter": "python",
   "pygments_lexer": "ipython3",
   "version": "3.7.3"
  }
 },
 "nbformat": 4,
 "nbformat_minor": 2
}
