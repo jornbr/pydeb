{
 "cells": [
  {
   "cell_type": "code",
   "execution_count": null,
   "metadata": {},
   "outputs": [],
   "source": [
    "import pydeb"
   ]
  },
  {
   "cell_type": "code",
   "execution_count": null,
   "metadata": {
    "tags": []
   },
   "outputs": [],
   "source": [
    "# Look up the Catalogue of Life (CoL) identifier for the species of interest\n",
    "pydeb.infer.get_ids('european rabbit', exact=True)"
   ]
  },
  {
   "cell_type": "code",
   "execution_count": null,
   "metadata": {
    "tags": []
   },
   "outputs": [],
   "source": [
    "# Retrieve DEB parameter set for the chosen CoL identifier\n",
    "# This returns the median estimate from [Debber](https://deb.bolding-bruggeman.com/)\n",
    "m = pydeb.infer.get_model_by_id('0488cb00ad3e3545c4c28f8feaf747e0')\n",
    "T = pydeb.infer.get_typical_temperature(m.col_id)\n",
    "c_T = m.get_temperature_correction(T)\n",
    "print('Using body temperature of %.1f degrees Celsius' % (T,))\n",
    "m.describe(c_T=c_T)"
   ]
  },
  {
   "cell_type": "code",
   "execution_count": null,
   "metadata": {},
   "outputs": [],
   "source": [
    "result = m.simulate(n=10000, delta_t=0.1, nsave=10, c_T=c_T)"
   ]
  },
  {
   "cell_type": "code",
   "execution_count": null,
   "metadata": {},
   "outputs": [],
   "source": [
    "import plotly.offline as py\n",
    "import plotly.graph_objects as go\n",
    "variable = 'L'\n",
    "data = [go.Scatter(x=result['t'], y=result[variable])]\n",
    "layout = {'xaxis': {'title': 'time (d)'}, 'yaxis': {'title': '%s (%s)' % (pydeb.long_names[variable], pydeb.units[variable])}}\n",
    "fig = go.Figure(data=data, layout=layout)\n",
    "py.iplot(fig)"
   ]
  },
  {
   "cell_type": "code",
   "execution_count": null,
   "metadata": {},
   "outputs": [],
   "source": []
  }
 ],
 "metadata": {
  "kernelspec": {
   "display_name": "Python 3",
   "language": "python",
   "name": "python3"
  },
  "language_info": {
   "codemirror_mode": {
    "name": "ipython",
    "version": 3
   },
   "file_extension": ".py",
   "mimetype": "text/x-python",
   "name": "python",
   "nbconvert_exporter": "python",
   "pygments_lexer": "ipython3",
   "version": "3.7.9-final"
  }
 },
 "nbformat": 4,
 "nbformat_minor": 2
}