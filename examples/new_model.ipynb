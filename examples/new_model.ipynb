{
 "cells": [
  {
   "cell_type": "code",
   "execution_count": null,
   "metadata": {},
   "outputs": [],
   "source": [
    "import sys\n",
    "sys.path.append('..')"
   ]
  },
  {
   "cell_type": "code",
   "execution_count": null,
   "metadata": {},
   "outputs": [],
   "source": [
    "import pydeb"
   ]
  },
  {
   "cell_type": "code",
   "execution_count": null,
   "metadata": {
    "tags": []
   },
   "outputs": [],
   "source": [
    "# Look up the Catalogue of Life (CoL) identifier for the species of interest\n",
    "pydeb.infer.get_ids('european rabbit', exact=True)"
   ]
  },
  {
   "cell_type": "code",
   "execution_count": null,
   "metadata": {
    "tags": []
   },
   "outputs": [],
   "source": [
    "# Retrieve DEB parameter set for the chosen CoL identifier\n",
    "# This returns the median estimate from [Debber](https://deb.bolding-bruggeman.com/)\n",
    "m = pydeb.infer.get_model_by_id('0488cb00ad3e3545c4c28f8feaf747e0')\n",
    "T = pydeb.infer.get_typical_temperature(m.col_id)\n",
    "c_T = m.get_temperature_correction(T)\n",
    "print('Using body temerature of %.1f degrees Celsius (temperature correction factor = %.3f)' % (T, c_T))\n",
    "m.report()"
   ]
  },
  {
   "cell_type": "code",
   "execution_count": null,
   "metadata": {},
   "outputs": [],
   "source": [
    "result = m.simulate(n=10000, delta_t=0.1, nsave=10)"
   ]
  },
  {
   "cell_type": "code",
   "execution_count": null,
   "metadata": {},
   "outputs": [],
   "source": [
    "import plotly.offline as py\n",
    "import plotly.graph_objects as go\n",
    "data = [go.Scatter(x=result['t'], y=result['E']/result['L']**3)]\n",
    "layout = {'xaxis': {'title': 'time (d)'}}\n",
    "py.iplot(data, layout)"
   ]
  }
 ],
 "metadata": {
  "kernelspec": {
   "display_name": "Python 3",
   "language": "python",
   "name": "python3"
  },
  "language_info": {
   "codemirror_mode": {
    "name": "ipython",
    "version": 3
   },
   "file_extension": ".py",
   "mimetype": "text/x-python",
   "name": "python",
   "nbconvert_exporter": "python",
   "pygments_lexer": "ipython3",
   "version": "3.7.3"
  }
 },
 "nbformat": 4,
 "nbformat_minor": 2
}